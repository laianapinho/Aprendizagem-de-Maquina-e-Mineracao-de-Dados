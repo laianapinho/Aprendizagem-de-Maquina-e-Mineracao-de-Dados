{
 "cells": [
  {
   "cell_type": "markdown",
   "metadata": {},
   "source": [
    "# Atividade 4 - Pandas"
   ]
  },
  {
   "cell_type": "markdown",
   "metadata": {},
   "source": [
    "Escreva a data na qual você finalizou o *notebook* e o seu nome abaixo. Termine a linha com dois espaços para que a data e o nome não fiquem em uma linha só."
   ]
  },
  {
   "cell_type": "markdown",
   "metadata": {},
   "source": [
    "**Data:**  \n",
    "**Nome:** Laiana de Pinho Cavalcante "
   ]
  },
  {
   "cell_type": "markdown",
   "metadata": {},
   "source": [
    "## Instruções\n",
    "\n",
    "Para realizar esta atividade, certifique-se de que possui os arquivos `london12.csv`. Esses arquivos podem ser baixados do ColabWeb.\n",
    "\n",
    "Acrescente suas próprias células para responder os enunciados. Ao finalizar, submeta a atividade por meio do ColabWeb."
   ]
  },
  {
   "cell_type": "markdown",
   "metadata": {},
   "source": [
    "## Advertência\n",
    "\n",
    "Recomenda-se realizar esta atividade em uma instalação *offline* do Jupyter Notebook, evitando o Google Colaboratory. O *notebook* apresentará alguns erros de formatação no Google Colaboratory, pois o Google Colaboratory não interpreta corretamente formatação em HTML.\n",
    "\n",
    "Entretanto, caso você queira realizar a atividade no Google Colaboratory, desative as ferramentas de IA. Caso contrário você **não conseguira estudar**.\n",
    "\n",
    "1. Clique no ícone da engrenagem no canto superior direito para acessar as configurações\n",
    "1. Selecione o menu \"IA\"\n",
    "1. Desabilite as sugestões e a IA geradora/generativa"
   ]
  },
  {
   "cell_type": "markdown",
   "metadata": {},
   "source": [
    "## Configuração do *notebook*\n",
    "\n",
    "Baixe o arquivo da atividade no ColabWeb.\n",
    "\n",
    "Execute a célula abaixo para importar as bibliotecas."
   ]
  },
  {
   "cell_type": "code",
   "execution_count": 2,
   "metadata": {},
   "outputs": [
    {
     "name": "stdout",
     "output_type": "stream",
     "text": [
      "Collecting seaborn\n",
      "  Downloading seaborn-0.13.2-py3-none-any.whl.metadata (5.4 kB)\n",
      "Requirement already satisfied: numpy!=1.24.0,>=1.20 in ./lib/python3.12/site-packages (from seaborn) (2.2.4)\n",
      "Requirement already satisfied: pandas>=1.2 in ./lib/python3.12/site-packages (from seaborn) (2.2.3)\n",
      "Requirement already satisfied: matplotlib!=3.6.1,>=3.4 in ./lib/python3.12/site-packages (from seaborn) (3.10.1)\n",
      "Requirement already satisfied: contourpy>=1.0.1 in ./lib/python3.12/site-packages (from matplotlib!=3.6.1,>=3.4->seaborn) (1.3.1)\n",
      "Requirement already satisfied: cycler>=0.10 in ./lib/python3.12/site-packages (from matplotlib!=3.6.1,>=3.4->seaborn) (0.12.1)\n",
      "Requirement already satisfied: fonttools>=4.22.0 in ./lib/python3.12/site-packages (from matplotlib!=3.6.1,>=3.4->seaborn) (4.57.0)\n",
      "Requirement already satisfied: kiwisolver>=1.3.1 in ./lib/python3.12/site-packages (from matplotlib!=3.6.1,>=3.4->seaborn) (1.4.8)\n",
      "Requirement already satisfied: packaging>=20.0 in ./lib/python3.12/site-packages (from matplotlib!=3.6.1,>=3.4->seaborn) (24.2)\n",
      "Requirement already satisfied: pillow>=8 in ./lib/python3.12/site-packages (from matplotlib!=3.6.1,>=3.4->seaborn) (11.1.0)\n",
      "Requirement already satisfied: pyparsing>=2.3.1 in ./lib/python3.12/site-packages (from matplotlib!=3.6.1,>=3.4->seaborn) (3.2.3)\n",
      "Requirement already satisfied: python-dateutil>=2.7 in ./lib/python3.12/site-packages (from matplotlib!=3.6.1,>=3.4->seaborn) (2.9.0.post0)\n",
      "Requirement already satisfied: pytz>=2020.1 in ./lib/python3.12/site-packages (from pandas>=1.2->seaborn) (2025.2)\n",
      "Requirement already satisfied: tzdata>=2022.7 in ./lib/python3.12/site-packages (from pandas>=1.2->seaborn) (2025.2)\n",
      "Requirement already satisfied: six>=1.5 in ./lib/python3.12/site-packages (from python-dateutil>=2.7->matplotlib!=3.6.1,>=3.4->seaborn) (1.17.0)\n",
      "Downloading seaborn-0.13.2-py3-none-any.whl (294 kB)\n",
      "\u001b[2K   \u001b[38;2;114;156;31m━━━━━━━━━━━━━━━━━━━━━━━━━━━━━━━━━━━━━━━\u001b[0m \u001b[32m294.9/294.9 kB\u001b[0m \u001b[31m530.2 kB/s\u001b[0m eta \u001b[36m0:00:00\u001b[0m31m1.3 MB/s\u001b[0m eta \u001b[36m0:00:01\u001b[0mm\n",
      "\u001b[?25hInstalling collected packages: seaborn\n",
      "Successfully installed seaborn-0.13.2\n"
     ]
    }
   ],
   "source": [
    "!pip install seaborn"
   ]
  },
  {
   "cell_type": "code",
   "execution_count": 1,
   "metadata": {},
   "outputs": [],
   "source": [
    "import numpy as np\n",
    "import pandas as pd\n",
    "import seaborn as sns\n",
    "import matplotlib.pyplot as plt\n",
    "\n",
    "sns.set()"
   ]
  },
  {
   "cell_type": "markdown",
   "metadata": {},
   "source": [
    "## Exercício 1"
   ]
  },
  {
   "cell_type": "markdown",
   "metadata": {},
   "source": [
    "<div style=\"background-color: #E2A038; border: #E2A038 solid 1px; margin-left: 2em; padding-left: 5px\"><div style=\"background-color: #F5EEE3; width: 100%; padding: 10px\">\n",
    "\n",
    "Carregue o conjunto de dados das Olimpíadas de 2012. Verifique quantas linhas e colunas foram carregadas. (Dica: verifique o formato ou <i>shape</i> do DataFrame)\n",
    "</div></div>"
   ]
  },
  {
   "cell_type": "code",
   "execution_count": 2,
   "metadata": {},
   "outputs": [
    {
     "data": {
      "text/html": [
       "<div>\n",
       "<style scoped>\n",
       "    .dataframe tbody tr th:only-of-type {\n",
       "        vertical-align: middle;\n",
       "    }\n",
       "\n",
       "    .dataframe tbody tr th {\n",
       "        vertical-align: top;\n",
       "    }\n",
       "\n",
       "    .dataframe thead th {\n",
       "        text-align: right;\n",
       "    }\n",
       "</style>\n",
       "<table border=\"1\" class=\"dataframe\">\n",
       "  <thead>\n",
       "    <tr style=\"text-align: right;\">\n",
       "      <th></th>\n",
       "      <th>ID</th>\n",
       "      <th>Age</th>\n",
       "      <th>Height</th>\n",
       "      <th>Weight</th>\n",
       "      <th>Sex</th>\n",
       "      <th>Total</th>\n",
       "      <th>Sport</th>\n",
       "    </tr>\n",
       "  </thead>\n",
       "  <tbody>\n",
       "    <tr>\n",
       "      <th>0</th>\n",
       "      <td>0</td>\n",
       "      <td>23</td>\n",
       "      <td>170.0</td>\n",
       "      <td>60.0</td>\n",
       "      <td>M</td>\n",
       "      <td>0</td>\n",
       "      <td>Judo</td>\n",
       "    </tr>\n",
       "    <tr>\n",
       "      <th>1</th>\n",
       "      <td>1</td>\n",
       "      <td>33</td>\n",
       "      <td>193.0</td>\n",
       "      <td>125.0</td>\n",
       "      <td>M</td>\n",
       "      <td>0</td>\n",
       "      <td>Athletics</td>\n",
       "    </tr>\n",
       "    <tr>\n",
       "      <th>2</th>\n",
       "      <td>2</td>\n",
       "      <td>30</td>\n",
       "      <td>187.0</td>\n",
       "      <td>76.0</td>\n",
       "      <td>M</td>\n",
       "      <td>0</td>\n",
       "      <td>Athletics</td>\n",
       "    </tr>\n",
       "    <tr>\n",
       "      <th>3</th>\n",
       "      <td>3</td>\n",
       "      <td>24</td>\n",
       "      <td>NaN</td>\n",
       "      <td>NaN</td>\n",
       "      <td>M</td>\n",
       "      <td>0</td>\n",
       "      <td>Boxing</td>\n",
       "    </tr>\n",
       "    <tr>\n",
       "      <th>4</th>\n",
       "      <td>4</td>\n",
       "      <td>26</td>\n",
       "      <td>178.0</td>\n",
       "      <td>85.0</td>\n",
       "      <td>F</td>\n",
       "      <td>0</td>\n",
       "      <td>Athletics</td>\n",
       "    </tr>\n",
       "    <tr>\n",
       "      <th>...</th>\n",
       "      <td>...</td>\n",
       "      <td>...</td>\n",
       "      <td>...</td>\n",
       "      <td>...</td>\n",
       "      <td>...</td>\n",
       "      <td>...</td>\n",
       "      <td>...</td>\n",
       "    </tr>\n",
       "    <tr>\n",
       "      <th>10379</th>\n",
       "      <td>10379</td>\n",
       "      <td>24</td>\n",
       "      <td>171.0</td>\n",
       "      <td>87.0</td>\n",
       "      <td>F</td>\n",
       "      <td>0</td>\n",
       "      <td>Athletics</td>\n",
       "    </tr>\n",
       "    <tr>\n",
       "      <th>10380</th>\n",
       "      <td>10380</td>\n",
       "      <td>28</td>\n",
       "      <td>172.0</td>\n",
       "      <td>56.0</td>\n",
       "      <td>F</td>\n",
       "      <td>0</td>\n",
       "      <td>Athletics</td>\n",
       "    </tr>\n",
       "    <tr>\n",
       "      <th>10381</th>\n",
       "      <td>10381</td>\n",
       "      <td>27</td>\n",
       "      <td>180.0</td>\n",
       "      <td>87.0</td>\n",
       "      <td>M</td>\n",
       "      <td>0</td>\n",
       "      <td>Handball</td>\n",
       "    </tr>\n",
       "    <tr>\n",
       "      <th>10382</th>\n",
       "      <td>10382</td>\n",
       "      <td>25</td>\n",
       "      <td>173.0</td>\n",
       "      <td>62.0</td>\n",
       "      <td>F</td>\n",
       "      <td>0</td>\n",
       "      <td>Athletics</td>\n",
       "    </tr>\n",
       "    <tr>\n",
       "      <th>10383</th>\n",
       "      <td>10383</td>\n",
       "      <td>24</td>\n",
       "      <td>221.0</td>\n",
       "      <td>110.0</td>\n",
       "      <td>M</td>\n",
       "      <td>0</td>\n",
       "      <td>Basketball</td>\n",
       "    </tr>\n",
       "  </tbody>\n",
       "</table>\n",
       "<p>10384 rows × 7 columns</p>\n",
       "</div>"
      ],
      "text/plain": [
       "          ID  Age  Height  Weight Sex  Total       Sport\n",
       "0          0   23   170.0    60.0   M      0        Judo\n",
       "1          1   33   193.0   125.0   M      0   Athletics\n",
       "2          2   30   187.0    76.0   M      0   Athletics\n",
       "3          3   24     NaN     NaN   M      0      Boxing\n",
       "4          4   26   178.0    85.0   F      0   Athletics\n",
       "...      ...  ...     ...     ...  ..    ...         ...\n",
       "10379  10379   24   171.0    87.0   F      0   Athletics\n",
       "10380  10380   28   172.0    56.0   F      0   Athletics\n",
       "10381  10381   27   180.0    87.0   M      0    Handball\n",
       "10382  10382   25   173.0    62.0   F      0   Athletics\n",
       "10383  10383   24   221.0   110.0   M      0  Basketball\n",
       "\n",
       "[10384 rows x 7 columns]"
      ]
     },
     "execution_count": 2,
     "metadata": {},
     "output_type": "execute_result"
    }
   ],
   "source": [
    "londres = pd.read_csv('london12.csv')\n",
    "londres"
   ]
  },
  {
   "cell_type": "markdown",
   "metadata": {},
   "source": [
    "<div style=\"background-color: #E2A038; border: #E2A038 solid 1px; margin-left: 2em; padding-left: 5px\"><div style=\"background-color: #F5EEE3; width: 100%; padding: 10px\">\n",
    "\n",
    "Remova a coluna `ID` usando o método `drop`.\n",
    "</div></div>"
   ]
  },
  {
   "cell_type": "code",
   "execution_count": 3,
   "metadata": {},
   "outputs": [
    {
     "data": {
      "text/html": [
       "<div>\n",
       "<style scoped>\n",
       "    .dataframe tbody tr th:only-of-type {\n",
       "        vertical-align: middle;\n",
       "    }\n",
       "\n",
       "    .dataframe tbody tr th {\n",
       "        vertical-align: top;\n",
       "    }\n",
       "\n",
       "    .dataframe thead th {\n",
       "        text-align: right;\n",
       "    }\n",
       "</style>\n",
       "<table border=\"1\" class=\"dataframe\">\n",
       "  <thead>\n",
       "    <tr style=\"text-align: right;\">\n",
       "      <th></th>\n",
       "      <th>Age</th>\n",
       "      <th>Height</th>\n",
       "      <th>Weight</th>\n",
       "      <th>Sex</th>\n",
       "      <th>Total</th>\n",
       "      <th>Sport</th>\n",
       "    </tr>\n",
       "  </thead>\n",
       "  <tbody>\n",
       "    <tr>\n",
       "      <th>0</th>\n",
       "      <td>23</td>\n",
       "      <td>170.0</td>\n",
       "      <td>60.0</td>\n",
       "      <td>M</td>\n",
       "      <td>0</td>\n",
       "      <td>Judo</td>\n",
       "    </tr>\n",
       "    <tr>\n",
       "      <th>1</th>\n",
       "      <td>33</td>\n",
       "      <td>193.0</td>\n",
       "      <td>125.0</td>\n",
       "      <td>M</td>\n",
       "      <td>0</td>\n",
       "      <td>Athletics</td>\n",
       "    </tr>\n",
       "    <tr>\n",
       "      <th>2</th>\n",
       "      <td>30</td>\n",
       "      <td>187.0</td>\n",
       "      <td>76.0</td>\n",
       "      <td>M</td>\n",
       "      <td>0</td>\n",
       "      <td>Athletics</td>\n",
       "    </tr>\n",
       "    <tr>\n",
       "      <th>3</th>\n",
       "      <td>24</td>\n",
       "      <td>NaN</td>\n",
       "      <td>NaN</td>\n",
       "      <td>M</td>\n",
       "      <td>0</td>\n",
       "      <td>Boxing</td>\n",
       "    </tr>\n",
       "    <tr>\n",
       "      <th>4</th>\n",
       "      <td>26</td>\n",
       "      <td>178.0</td>\n",
       "      <td>85.0</td>\n",
       "      <td>F</td>\n",
       "      <td>0</td>\n",
       "      <td>Athletics</td>\n",
       "    </tr>\n",
       "    <tr>\n",
       "      <th>...</th>\n",
       "      <td>...</td>\n",
       "      <td>...</td>\n",
       "      <td>...</td>\n",
       "      <td>...</td>\n",
       "      <td>...</td>\n",
       "      <td>...</td>\n",
       "    </tr>\n",
       "    <tr>\n",
       "      <th>10379</th>\n",
       "      <td>24</td>\n",
       "      <td>171.0</td>\n",
       "      <td>87.0</td>\n",
       "      <td>F</td>\n",
       "      <td>0</td>\n",
       "      <td>Athletics</td>\n",
       "    </tr>\n",
       "    <tr>\n",
       "      <th>10380</th>\n",
       "      <td>28</td>\n",
       "      <td>172.0</td>\n",
       "      <td>56.0</td>\n",
       "      <td>F</td>\n",
       "      <td>0</td>\n",
       "      <td>Athletics</td>\n",
       "    </tr>\n",
       "    <tr>\n",
       "      <th>10381</th>\n",
       "      <td>27</td>\n",
       "      <td>180.0</td>\n",
       "      <td>87.0</td>\n",
       "      <td>M</td>\n",
       "      <td>0</td>\n",
       "      <td>Handball</td>\n",
       "    </tr>\n",
       "    <tr>\n",
       "      <th>10382</th>\n",
       "      <td>25</td>\n",
       "      <td>173.0</td>\n",
       "      <td>62.0</td>\n",
       "      <td>F</td>\n",
       "      <td>0</td>\n",
       "      <td>Athletics</td>\n",
       "    </tr>\n",
       "    <tr>\n",
       "      <th>10383</th>\n",
       "      <td>24</td>\n",
       "      <td>221.0</td>\n",
       "      <td>110.0</td>\n",
       "      <td>M</td>\n",
       "      <td>0</td>\n",
       "      <td>Basketball</td>\n",
       "    </tr>\n",
       "  </tbody>\n",
       "</table>\n",
       "<p>10384 rows × 6 columns</p>\n",
       "</div>"
      ],
      "text/plain": [
       "       Age  Height  Weight Sex  Total       Sport\n",
       "0       23   170.0    60.0   M      0        Judo\n",
       "1       33   193.0   125.0   M      0   Athletics\n",
       "2       30   187.0    76.0   M      0   Athletics\n",
       "3       24     NaN     NaN   M      0      Boxing\n",
       "4       26   178.0    85.0   F      0   Athletics\n",
       "...    ...     ...     ...  ..    ...         ...\n",
       "10379   24   171.0    87.0   F      0   Athletics\n",
       "10380   28   172.0    56.0   F      0   Athletics\n",
       "10381   27   180.0    87.0   M      0    Handball\n",
       "10382   25   173.0    62.0   F      0   Athletics\n",
       "10383   24   221.0   110.0   M      0  Basketball\n",
       "\n",
       "[10384 rows x 6 columns]"
      ]
     },
     "execution_count": 3,
     "metadata": {},
     "output_type": "execute_result"
    }
   ],
   "source": [
    "londrestwo = londres.drop('ID', axis=1)\n",
    "londrestwo"
   ]
  },
  {
   "cell_type": "markdown",
   "metadata": {},
   "source": [
    "Verifique as colunas remanescentes com o método `head`. Deve haver as colunas Age, Height, Weight, Sex, Total e Sport."
   ]
  },
  {
   "cell_type": "code",
   "execution_count": 4,
   "metadata": {},
   "outputs": [
    {
     "data": {
      "text/html": [
       "<div>\n",
       "<style scoped>\n",
       "    .dataframe tbody tr th:only-of-type {\n",
       "        vertical-align: middle;\n",
       "    }\n",
       "\n",
       "    .dataframe tbody tr th {\n",
       "        vertical-align: top;\n",
       "    }\n",
       "\n",
       "    .dataframe thead th {\n",
       "        text-align: right;\n",
       "    }\n",
       "</style>\n",
       "<table border=\"1\" class=\"dataframe\">\n",
       "  <thead>\n",
       "    <tr style=\"text-align: right;\">\n",
       "      <th></th>\n",
       "      <th>ID</th>\n",
       "      <th>Age</th>\n",
       "      <th>Height</th>\n",
       "      <th>Weight</th>\n",
       "      <th>Sex</th>\n",
       "      <th>Total</th>\n",
       "      <th>Sport</th>\n",
       "    </tr>\n",
       "  </thead>\n",
       "  <tbody>\n",
       "    <tr>\n",
       "      <th>0</th>\n",
       "      <td>0</td>\n",
       "      <td>23</td>\n",
       "      <td>170.0</td>\n",
       "      <td>60.0</td>\n",
       "      <td>M</td>\n",
       "      <td>0</td>\n",
       "      <td>Judo</td>\n",
       "    </tr>\n",
       "    <tr>\n",
       "      <th>1</th>\n",
       "      <td>1</td>\n",
       "      <td>33</td>\n",
       "      <td>193.0</td>\n",
       "      <td>125.0</td>\n",
       "      <td>M</td>\n",
       "      <td>0</td>\n",
       "      <td>Athletics</td>\n",
       "    </tr>\n",
       "    <tr>\n",
       "      <th>2</th>\n",
       "      <td>2</td>\n",
       "      <td>30</td>\n",
       "      <td>187.0</td>\n",
       "      <td>76.0</td>\n",
       "      <td>M</td>\n",
       "      <td>0</td>\n",
       "      <td>Athletics</td>\n",
       "    </tr>\n",
       "    <tr>\n",
       "      <th>3</th>\n",
       "      <td>3</td>\n",
       "      <td>24</td>\n",
       "      <td>NaN</td>\n",
       "      <td>NaN</td>\n",
       "      <td>M</td>\n",
       "      <td>0</td>\n",
       "      <td>Boxing</td>\n",
       "    </tr>\n",
       "    <tr>\n",
       "      <th>4</th>\n",
       "      <td>4</td>\n",
       "      <td>26</td>\n",
       "      <td>178.0</td>\n",
       "      <td>85.0</td>\n",
       "      <td>F</td>\n",
       "      <td>0</td>\n",
       "      <td>Athletics</td>\n",
       "    </tr>\n",
       "  </tbody>\n",
       "</table>\n",
       "</div>"
      ],
      "text/plain": [
       "   ID  Age  Height  Weight Sex  Total      Sport\n",
       "0   0   23   170.0    60.0   M      0       Judo\n",
       "1   1   33   193.0   125.0   M      0  Athletics\n",
       "2   2   30   187.0    76.0   M      0  Athletics\n",
       "3   3   24     NaN     NaN   M      0     Boxing\n",
       "4   4   26   178.0    85.0   F      0  Athletics"
      ]
     },
     "execution_count": 4,
     "metadata": {},
     "output_type": "execute_result"
    }
   ],
   "source": [
    "londres.head()"
   ]
  },
  {
   "cell_type": "markdown",
   "metadata": {},
   "source": [
    "<div style=\"background-color: #E2A038; border: #E2A038 solid 1px; margin-left: 2em; padding-left: 5px\"><div style=\"background-color: #F5EEE3; width: 100%; padding: 10px\">\n",
    "\n",
    "Verifique quantos atletas receberam pelo menos uma medalha. O resultado deve ser 493.\n",
    "</div></div>"
   ]
  },
  {
   "cell_type": "code",
   "execution_count": 8,
   "metadata": {},
   "outputs": [
    {
     "data": {
      "text/html": [
       "<div>\n",
       "<style scoped>\n",
       "    .dataframe tbody tr th:only-of-type {\n",
       "        vertical-align: middle;\n",
       "    }\n",
       "\n",
       "    .dataframe tbody tr th {\n",
       "        vertical-align: top;\n",
       "    }\n",
       "\n",
       "    .dataframe thead th {\n",
       "        text-align: right;\n",
       "    }\n",
       "</style>\n",
       "<table border=\"1\" class=\"dataframe\">\n",
       "  <thead>\n",
       "    <tr style=\"text-align: right;\">\n",
       "      <th></th>\n",
       "      <th>ID</th>\n",
       "      <th>Age</th>\n",
       "      <th>Height</th>\n",
       "      <th>Weight</th>\n",
       "      <th>Sex</th>\n",
       "      <th>Total</th>\n",
       "      <th>Sport</th>\n",
       "    </tr>\n",
       "  </thead>\n",
       "  <tbody>\n",
       "    <tr>\n",
       "      <th>33</th>\n",
       "      <td>33</td>\n",
       "      <td>20</td>\n",
       "      <td>160.0</td>\n",
       "      <td>62.0</td>\n",
       "      <td>F</td>\n",
       "      <td>1</td>\n",
       "      <td>Diving</td>\n",
       "    </tr>\n",
       "    <tr>\n",
       "      <th>45</th>\n",
       "      <td>45</td>\n",
       "      <td>21</td>\n",
       "      <td>188.0</td>\n",
       "      <td>82.0</td>\n",
       "      <td>M</td>\n",
       "      <td>1</td>\n",
       "      <td>Fencing</td>\n",
       "    </tr>\n",
       "    <tr>\n",
       "      <th>68</th>\n",
       "      <td>68</td>\n",
       "      <td>27</td>\n",
       "      <td>171.0</td>\n",
       "      <td>72.0</td>\n",
       "      <td>F</td>\n",
       "      <td>1</td>\n",
       "      <td>Rowing</td>\n",
       "    </tr>\n",
       "    <tr>\n",
       "      <th>82</th>\n",
       "      <td>82</td>\n",
       "      <td>29</td>\n",
       "      <td>189.0</td>\n",
       "      <td>90.0</td>\n",
       "      <td>M</td>\n",
       "      <td>1</td>\n",
       "      <td>Rowing</td>\n",
       "    </tr>\n",
       "    <tr>\n",
       "      <th>90</th>\n",
       "      <td>90</td>\n",
       "      <td>23</td>\n",
       "      <td>179.0</td>\n",
       "      <td>70.0</td>\n",
       "      <td>F</td>\n",
       "      <td>1</td>\n",
       "      <td>Swimming</td>\n",
       "    </tr>\n",
       "    <tr>\n",
       "      <th>...</th>\n",
       "      <td>...</td>\n",
       "      <td>...</td>\n",
       "      <td>...</td>\n",
       "      <td>...</td>\n",
       "      <td>...</td>\n",
       "      <td>...</td>\n",
       "      <td>...</td>\n",
       "    </tr>\n",
       "    <tr>\n",
       "      <th>10320</th>\n",
       "      <td>10320</td>\n",
       "      <td>24</td>\n",
       "      <td>178.0</td>\n",
       "      <td>70.0</td>\n",
       "      <td>M</td>\n",
       "      <td>1</td>\n",
       "      <td>Table Tennis</td>\n",
       "    </tr>\n",
       "    <tr>\n",
       "      <th>10331</th>\n",
       "      <td>10331</td>\n",
       "      <td>22</td>\n",
       "      <td>183.0</td>\n",
       "      <td>73.0</td>\n",
       "      <td>M</td>\n",
       "      <td>1</td>\n",
       "      <td>Badminton</td>\n",
       "    </tr>\n",
       "    <tr>\n",
       "      <th>10345</th>\n",
       "      <td>10345</td>\n",
       "      <td>34</td>\n",
       "      <td>180.0</td>\n",
       "      <td>85.0</td>\n",
       "      <td>M</td>\n",
       "      <td>1</td>\n",
       "      <td>Shooting</td>\n",
       "    </tr>\n",
       "    <tr>\n",
       "      <th>10349</th>\n",
       "      <td>10349</td>\n",
       "      <td>30</td>\n",
       "      <td>173.0</td>\n",
       "      <td>63.0</td>\n",
       "      <td>F</td>\n",
       "      <td>1</td>\n",
       "      <td>Judo</td>\n",
       "    </tr>\n",
       "    <tr>\n",
       "      <th>10353</th>\n",
       "      <td>10353</td>\n",
       "      <td>24</td>\n",
       "      <td>158.0</td>\n",
       "      <td>NaN</td>\n",
       "      <td>M</td>\n",
       "      <td>1</td>\n",
       "      <td>Gymnastics - Artistic</td>\n",
       "    </tr>\n",
       "  </tbody>\n",
       "</table>\n",
       "<p>493 rows × 7 columns</p>\n",
       "</div>"
      ],
      "text/plain": [
       "          ID  Age  Height  Weight Sex  Total                  Sport\n",
       "33        33   20   160.0    62.0   F      1                 Diving\n",
       "45        45   21   188.0    82.0   M      1                Fencing\n",
       "68        68   27   171.0    72.0   F      1                 Rowing\n",
       "82        82   29   189.0    90.0   M      1                 Rowing\n",
       "90        90   23   179.0    70.0   F      1               Swimming\n",
       "...      ...  ...     ...     ...  ..    ...                    ...\n",
       "10320  10320   24   178.0    70.0   M      1           Table Tennis\n",
       "10331  10331   22   183.0    73.0   M      1              Badminton\n",
       "10345  10345   34   180.0    85.0   M      1               Shooting\n",
       "10349  10349   30   173.0    63.0   F      1                   Judo\n",
       "10353  10353   24   158.0     NaN   M      1  Gymnastics - Artistic\n",
       "\n",
       "[493 rows x 7 columns]"
      ]
     },
     "execution_count": 8,
     "metadata": {},
     "output_type": "execute_result"
    }
   ],
   "source": [
    "atletas_com_medalha = londres[londres['Total'] >= 1]\n",
    "atletas_com_medalha "
   ]
  },
  {
   "cell_type": "code",
   "execution_count": 46,
   "metadata": {},
   "outputs": [
    {
     "data": {
      "text/html": [
       "<div>\n",
       "<style scoped>\n",
       "    .dataframe tbody tr th:only-of-type {\n",
       "        vertical-align: middle;\n",
       "    }\n",
       "\n",
       "    .dataframe tbody tr th {\n",
       "        vertical-align: top;\n",
       "    }\n",
       "\n",
       "    .dataframe thead th {\n",
       "        text-align: right;\n",
       "    }\n",
       "</style>\n",
       "<table border=\"1\" class=\"dataframe\">\n",
       "  <thead>\n",
       "    <tr style=\"text-align: right;\">\n",
       "      <th></th>\n",
       "      <th>ID</th>\n",
       "      <th>Age</th>\n",
       "      <th>Height</th>\n",
       "      <th>Weight</th>\n",
       "      <th>Sex</th>\n",
       "      <th>Total</th>\n",
       "      <th>Sport</th>\n",
       "    </tr>\n",
       "  </thead>\n",
       "  <tbody>\n",
       "    <tr>\n",
       "      <th>0</th>\n",
       "      <td>0</td>\n",
       "      <td>23</td>\n",
       "      <td>170.0</td>\n",
       "      <td>60.0</td>\n",
       "      <td>M</td>\n",
       "      <td>0</td>\n",
       "      <td>Judo</td>\n",
       "    </tr>\n",
       "    <tr>\n",
       "      <th>1</th>\n",
       "      <td>1</td>\n",
       "      <td>33</td>\n",
       "      <td>193.0</td>\n",
       "      <td>125.0</td>\n",
       "      <td>M</td>\n",
       "      <td>0</td>\n",
       "      <td>Athletics</td>\n",
       "    </tr>\n",
       "    <tr>\n",
       "      <th>2</th>\n",
       "      <td>2</td>\n",
       "      <td>30</td>\n",
       "      <td>187.0</td>\n",
       "      <td>76.0</td>\n",
       "      <td>M</td>\n",
       "      <td>0</td>\n",
       "      <td>Athletics</td>\n",
       "    </tr>\n",
       "    <tr>\n",
       "      <th>3</th>\n",
       "      <td>3</td>\n",
       "      <td>24</td>\n",
       "      <td>NaN</td>\n",
       "      <td>NaN</td>\n",
       "      <td>M</td>\n",
       "      <td>0</td>\n",
       "      <td>Boxing</td>\n",
       "    </tr>\n",
       "    <tr>\n",
       "      <th>4</th>\n",
       "      <td>4</td>\n",
       "      <td>26</td>\n",
       "      <td>178.0</td>\n",
       "      <td>85.0</td>\n",
       "      <td>F</td>\n",
       "      <td>0</td>\n",
       "      <td>Athletics</td>\n",
       "    </tr>\n",
       "    <tr>\n",
       "      <th>...</th>\n",
       "      <td>...</td>\n",
       "      <td>...</td>\n",
       "      <td>...</td>\n",
       "      <td>...</td>\n",
       "      <td>...</td>\n",
       "      <td>...</td>\n",
       "      <td>...</td>\n",
       "    </tr>\n",
       "    <tr>\n",
       "      <th>10379</th>\n",
       "      <td>10379</td>\n",
       "      <td>24</td>\n",
       "      <td>171.0</td>\n",
       "      <td>87.0</td>\n",
       "      <td>F</td>\n",
       "      <td>0</td>\n",
       "      <td>Athletics</td>\n",
       "    </tr>\n",
       "    <tr>\n",
       "      <th>10380</th>\n",
       "      <td>10380</td>\n",
       "      <td>28</td>\n",
       "      <td>172.0</td>\n",
       "      <td>56.0</td>\n",
       "      <td>F</td>\n",
       "      <td>0</td>\n",
       "      <td>Athletics</td>\n",
       "    </tr>\n",
       "    <tr>\n",
       "      <th>10381</th>\n",
       "      <td>10381</td>\n",
       "      <td>27</td>\n",
       "      <td>180.0</td>\n",
       "      <td>87.0</td>\n",
       "      <td>M</td>\n",
       "      <td>0</td>\n",
       "      <td>Handball</td>\n",
       "    </tr>\n",
       "    <tr>\n",
       "      <th>10382</th>\n",
       "      <td>10382</td>\n",
       "      <td>25</td>\n",
       "      <td>173.0</td>\n",
       "      <td>62.0</td>\n",
       "      <td>F</td>\n",
       "      <td>0</td>\n",
       "      <td>Athletics</td>\n",
       "    </tr>\n",
       "    <tr>\n",
       "      <th>10383</th>\n",
       "      <td>10383</td>\n",
       "      <td>24</td>\n",
       "      <td>221.0</td>\n",
       "      <td>110.0</td>\n",
       "      <td>M</td>\n",
       "      <td>0</td>\n",
       "      <td>Basketball</td>\n",
       "    </tr>\n",
       "  </tbody>\n",
       "</table>\n",
       "<p>9891 rows × 7 columns</p>\n",
       "</div>"
      ],
      "text/plain": [
       "          ID  Age  Height  Weight Sex  Total       Sport\n",
       "0          0   23   170.0    60.0   M      0        Judo\n",
       "1          1   33   193.0   125.0   M      0   Athletics\n",
       "2          2   30   187.0    76.0   M      0   Athletics\n",
       "3          3   24     NaN     NaN   M      0      Boxing\n",
       "4          4   26   178.0    85.0   F      0   Athletics\n",
       "...      ...  ...     ...     ...  ..    ...         ...\n",
       "10379  10379   24   171.0    87.0   F      0   Athletics\n",
       "10380  10380   28   172.0    56.0   F      0   Athletics\n",
       "10381  10381   27   180.0    87.0   M      0    Handball\n",
       "10382  10382   25   173.0    62.0   F      0   Athletics\n",
       "10383  10383   24   221.0   110.0   M      0  Basketball\n",
       "\n",
       "[9891 rows x 7 columns]"
      ]
     },
     "execution_count": 46,
     "metadata": {},
     "output_type": "execute_result"
    }
   ],
   "source": [
    "atletas_sem_medalha = londres[londres['Total'] == 0]\n",
    "atletas_sem_medalha "
   ]
  },
  {
   "cell_type": "markdown",
   "metadata": {},
   "source": [
    "## Exercício 2"
   ]
  },
  {
   "cell_type": "markdown",
   "metadata": {},
   "source": [
    "<div style=\"background-color: #E2A038; border: #E2A038 solid 1px; margin-left: 2em; padding-left: 5px\"><div style=\"background-color: #F5EEE3; width: 100%; padding: 10px\">\n",
    "\n",
    "Usando `idxmax`, encontre o índice da linha que contém o atleta mais velho da competição.\n",
    "</div></div>"
   ]
  },
  {
   "cell_type": "code",
   "execution_count": 17,
   "metadata": {},
   "outputs": [],
   "source": [
    "pos_mais_velho = londres.loc[londres['Age'].idxmax()]"
   ]
  },
  {
   "cell_type": "markdown",
   "metadata": {},
   "source": [
    "<div style=\"background-color: #E2A038; border: #E2A038 solid 1px; margin-left: 2em; padding-left: 5px\"><div style=\"background-color: #F5EEE3; width: 100%; padding: 10px\">\n",
    "\n",
    "Utilize esse índice para recuperar os dados desse atleta.\n",
    "</div></div>"
   ]
  },
  {
   "cell_type": "code",
   "execution_count": 18,
   "metadata": {},
   "outputs": [
    {
     "data": {
      "text/plain": [
       "ID              3758\n",
       "Age               71\n",
       "Height         168.0\n",
       "Weight          61.0\n",
       "Sex                M\n",
       "Total              0\n",
       "Sport     Equestrian\n",
       "Name: 3758, dtype: object"
      ]
     },
     "execution_count": 18,
     "metadata": {},
     "output_type": "execute_result"
    }
   ],
   "source": [
    "pos_mais_velho"
   ]
  },
  {
   "cell_type": "markdown",
   "metadata": {},
   "source": [
    "<div style=\"background-color: #E2A038; border: #E2A038 solid 1px; margin-left: 2em; padding-left: 5px\"><div style=\"background-color: #F5EEE3; width: 100%; padding: 10px\">\n",
    "\n",
    "Quem é a atleta mais velha da competição?\n",
    "</div></div>"
   ]
  },
  {
   "cell_type": "markdown",
   "metadata": {},
   "source": [
    "<div style=\"background-color: #3976E4; border: #3976E4 solid 1px; margin-left: 2em; padding-left: 5px\"><div style=\"background-color: #A9B8D1; width: 100%; padding: 10px\">\n",
    "\n",
    "**Dica:** utilize uma condição sobre o atributo `Sex` para gerar uma máscara\n",
    "</div></div>"
   ]
  },
  {
   "cell_type": "code",
   "execution_count": 20,
   "metadata": {},
   "outputs": [
    {
     "data": {
      "text/plain": [
       "ID              6495\n",
       "Age               57\n",
       "Height         173.0\n",
       "Weight          63.0\n",
       "Sex                F\n",
       "Total              0\n",
       "Sport     Equestrian\n",
       "Name: 6495, dtype: object"
      ]
     },
     "execution_count": 20,
     "metadata": {},
     "output_type": "execute_result"
    }
   ],
   "source": [
    "mais_velha = londres.loc[londres[londres['Sex'] == 'F']['Age'].idxmax()]\n",
    "mais_velha"
   ]
  },
  {
   "cell_type": "markdown",
   "metadata": {},
   "source": [
    "<div style=\"background-color: #E2A038; border: #E2A038 solid 1px; margin-left: 2em; padding-left: 5px\"><div style=\"background-color: #F5EEE3; width: 100%; padding: 10px\">\n",
    "\n",
    "Quem são os 15 atletas mais novos?\n",
    "</div></div>"
   ]
  },
  {
   "cell_type": "code",
   "execution_count": 22,
   "metadata": {},
   "outputs": [
    {
     "data": {
      "text/html": [
       "<div>\n",
       "<style scoped>\n",
       "    .dataframe tbody tr th:only-of-type {\n",
       "        vertical-align: middle;\n",
       "    }\n",
       "\n",
       "    .dataframe tbody tr th {\n",
       "        vertical-align: top;\n",
       "    }\n",
       "\n",
       "    .dataframe thead th {\n",
       "        text-align: right;\n",
       "    }\n",
       "</style>\n",
       "<table border=\"1\" class=\"dataframe\">\n",
       "  <thead>\n",
       "    <tr style=\"text-align: right;\">\n",
       "      <th></th>\n",
       "      <th>ID</th>\n",
       "      <th>Age</th>\n",
       "      <th>Height</th>\n",
       "      <th>Weight</th>\n",
       "      <th>Sex</th>\n",
       "      <th>Total</th>\n",
       "      <th>Sport</th>\n",
       "    </tr>\n",
       "  </thead>\n",
       "  <tbody>\n",
       "    <tr>\n",
       "      <th>4869</th>\n",
       "      <td>4869</td>\n",
       "      <td>13</td>\n",
       "      <td>158.0</td>\n",
       "      <td>53.0</td>\n",
       "      <td>F</td>\n",
       "      <td>0</td>\n",
       "      <td>Swimming</td>\n",
       "    </tr>\n",
       "    <tr>\n",
       "      <th>9030</th>\n",
       "      <td>9030</td>\n",
       "      <td>14</td>\n",
       "      <td>168.0</td>\n",
       "      <td>68.0</td>\n",
       "      <td>F</td>\n",
       "      <td>0</td>\n",
       "      <td>Swimming</td>\n",
       "    </tr>\n",
       "    <tr>\n",
       "      <th>7552</th>\n",
       "      <td>7552</td>\n",
       "      <td>14</td>\n",
       "      <td>170.0</td>\n",
       "      <td>53.0</td>\n",
       "      <td>F</td>\n",
       "      <td>0</td>\n",
       "      <td>Swimming</td>\n",
       "    </tr>\n",
       "    <tr>\n",
       "      <th>2806</th>\n",
       "      <td>2806</td>\n",
       "      <td>14</td>\n",
       "      <td>162.0</td>\n",
       "      <td>50.0</td>\n",
       "      <td>F</td>\n",
       "      <td>0</td>\n",
       "      <td>Swimming</td>\n",
       "    </tr>\n",
       "    <tr>\n",
       "      <th>9791</th>\n",
       "      <td>9791</td>\n",
       "      <td>14</td>\n",
       "      <td>180.0</td>\n",
       "      <td>64.0</td>\n",
       "      <td>F</td>\n",
       "      <td>0</td>\n",
       "      <td>Swimming</td>\n",
       "    </tr>\n",
       "    <tr>\n",
       "      <th>6331</th>\n",
       "      <td>6331</td>\n",
       "      <td>14</td>\n",
       "      <td>172.0</td>\n",
       "      <td>72.0</td>\n",
       "      <td>F</td>\n",
       "      <td>0</td>\n",
       "      <td>Swimming</td>\n",
       "    </tr>\n",
       "    <tr>\n",
       "      <th>4601</th>\n",
       "      <td>4601</td>\n",
       "      <td>14</td>\n",
       "      <td>149.0</td>\n",
       "      <td>44.0</td>\n",
       "      <td>F</td>\n",
       "      <td>0</td>\n",
       "      <td>Diving</td>\n",
       "    </tr>\n",
       "    <tr>\n",
       "      <th>6333</th>\n",
       "      <td>6333</td>\n",
       "      <td>14</td>\n",
       "      <td>161.0</td>\n",
       "      <td>53.0</td>\n",
       "      <td>F</td>\n",
       "      <td>0</td>\n",
       "      <td>Fencing</td>\n",
       "    </tr>\n",
       "    <tr>\n",
       "      <th>4893</th>\n",
       "      <td>4893</td>\n",
       "      <td>15</td>\n",
       "      <td>146.0</td>\n",
       "      <td>NaN</td>\n",
       "      <td>F</td>\n",
       "      <td>0</td>\n",
       "      <td>Gymnastics - Artistic</td>\n",
       "    </tr>\n",
       "    <tr>\n",
       "      <th>5491</th>\n",
       "      <td>5491</td>\n",
       "      <td>15</td>\n",
       "      <td>153.0</td>\n",
       "      <td>60.0</td>\n",
       "      <td>F</td>\n",
       "      <td>0</td>\n",
       "      <td>Swimming</td>\n",
       "    </tr>\n",
       "    <tr>\n",
       "      <th>6698</th>\n",
       "      <td>6698</td>\n",
       "      <td>15</td>\n",
       "      <td>184.0</td>\n",
       "      <td>67.0</td>\n",
       "      <td>F</td>\n",
       "      <td>0</td>\n",
       "      <td>Swimming</td>\n",
       "    </tr>\n",
       "    <tr>\n",
       "      <th>5964</th>\n",
       "      <td>5964</td>\n",
       "      <td>15</td>\n",
       "      <td>172.0</td>\n",
       "      <td>64.0</td>\n",
       "      <td>F</td>\n",
       "      <td>1</td>\n",
       "      <td>Swimming</td>\n",
       "    </tr>\n",
       "    <tr>\n",
       "      <th>7554</th>\n",
       "      <td>7554</td>\n",
       "      <td>15</td>\n",
       "      <td>175.0</td>\n",
       "      <td>57.0</td>\n",
       "      <td>M</td>\n",
       "      <td>0</td>\n",
       "      <td>Swimming</td>\n",
       "    </tr>\n",
       "    <tr>\n",
       "      <th>6677</th>\n",
       "      <td>6677</td>\n",
       "      <td>15</td>\n",
       "      <td>165.0</td>\n",
       "      <td>58.0</td>\n",
       "      <td>F</td>\n",
       "      <td>0</td>\n",
       "      <td>Swimming</td>\n",
       "    </tr>\n",
       "    <tr>\n",
       "      <th>6004</th>\n",
       "      <td>6004</td>\n",
       "      <td>15</td>\n",
       "      <td>160.0</td>\n",
       "      <td>49.0</td>\n",
       "      <td>F</td>\n",
       "      <td>0</td>\n",
       "      <td>Diving</td>\n",
       "    </tr>\n",
       "  </tbody>\n",
       "</table>\n",
       "</div>"
      ],
      "text/plain": [
       "        ID  Age  Height  Weight Sex  Total                  Sport\n",
       "4869  4869   13   158.0    53.0   F      0               Swimming\n",
       "9030  9030   14   168.0    68.0   F      0               Swimming\n",
       "7552  7552   14   170.0    53.0   F      0               Swimming\n",
       "2806  2806   14   162.0    50.0   F      0               Swimming\n",
       "9791  9791   14   180.0    64.0   F      0               Swimming\n",
       "6331  6331   14   172.0    72.0   F      0               Swimming\n",
       "4601  4601   14   149.0    44.0   F      0                 Diving\n",
       "6333  6333   14   161.0    53.0   F      0                Fencing\n",
       "4893  4893   15   146.0     NaN   F      0  Gymnastics - Artistic\n",
       "5491  5491   15   153.0    60.0   F      0               Swimming\n",
       "6698  6698   15   184.0    67.0   F      0               Swimming\n",
       "5964  5964   15   172.0    64.0   F      1               Swimming\n",
       "7554  7554   15   175.0    57.0   M      0               Swimming\n",
       "6677  6677   15   165.0    58.0   F      0               Swimming\n",
       "6004  6004   15   160.0    49.0   F      0                 Diving"
      ]
     },
     "execution_count": 22,
     "metadata": {},
     "output_type": "execute_result"
    }
   ],
   "source": [
    "pessoas_mais_novas = londres.sort_values(by='Age').head(15)\n",
    "pessoas_mais_novas"
   ]
  },
  {
   "cell_type": "markdown",
   "metadata": {},
   "source": [
    "<div style=\"background-color: #E2A038; border: #E2A038 solid 1px; margin-left: 2em; padding-left: 5px\"><div style=\"background-color: #F5EEE3; width: 100%; padding: 10px\">\n",
    "\n",
    "Gere um histograma das idades dos homens\n",
    "</div></div>"
   ]
  },
  {
   "cell_type": "code",
   "execution_count": 32,
   "metadata": {},
   "outputs": [
    {
     "data": {
      "text/plain": [
       "(array([5.530e+02, 2.639e+03, 1.669e+03, 6.790e+02, 1.310e+02, 5.500e+01,\n",
       "        2.200e+01, 5.000e+00, 2.000e+00, 1.000e+00]),\n",
       " array([15. , 20.6, 26.2, 31.8, 37.4, 43. , 48.6, 54.2, 59.8, 65.4, 71. ]),\n",
       " <BarContainer object of 10 artists>)"
      ]
     },
     "execution_count": 32,
     "metadata": {},
     "output_type": "execute_result"
    },
    {
     "data": {
      "image/png": "[encoded data removed]",
      "text/plain": [
       "<Figure size 640x480 with 1 Axes>"
      ]
     },
     "metadata": {},
     "output_type": "display_data"
    }
   ],
   "source": [
    "import matplotlib.pyplot as plt\n",
    "homens = londres[londres['Sex'] == 'M']\n",
    "idades = homens['Age']\n",
    "plt.hist(idades, color='skyblue')"
   ]
  },
  {
   "cell_type": "markdown",
   "metadata": {},
   "source": [
    "<div style=\"background-color: #E2A038; border: #E2A038 solid 1px; margin-left: 2em; padding-left: 5px\"><div style=\"background-color: #F5EEE3; width: 100%; padding: 10px\">\n",
    "\n",
    "Gere um histograma das idades das mulheres\n",
    "</div></div>"
   ]
  },
  {
   "cell_type": "code",
   "execution_count": 33,
   "metadata": {},
   "outputs": [
    {
     "data": {
      "text/plain": [
       "(array([ 181.,  881., 1835., 1036.,  468.,  147.,   47.,   21.,    9.,\n",
       "           3.]),\n",
       " array([13. , 17.4, 21.8, 26.2, 30.6, 35. , 39.4, 43.8, 48.2, 52.6, 57. ]),\n",
       " <BarContainer object of 10 artists>)"
      ]
     },
     "execution_count": 33,
     "metadata": {},
     "output_type": "execute_result"
    },
    {
     "data": {
      "image/png": "[encoded data removed]",
      "text/plain": [
       "<Figure size 640x480 with 1 Axes>"
      ]
     },
     "metadata": {},
     "output_type": "display_data"
    }
   ],
   "source": [
    "import matplotlib.pyplot as plt\n",
    "# Filtrar apenas atletas do sexo feminino\n",
    "mulheres = londres[londres['Sex'] == 'F']\n",
    "idadesm = mulheres['Age']\n",
    "plt.hist(idadesm, color='pink')"
   ]
  },
  {
   "cell_type": "markdown",
   "metadata": {},
   "source": [
    "## Exercício 3"
   ]
  },
  {
   "cell_type": "markdown",
   "metadata": {},
   "source": [
    "Neste exercício você deverá utilizar a função `pie` do PyPlot ou o método `plot.pie` da própria série do Pandas para gerar um gráfico de \"pizza\".\n",
    "\n",
    "Você pode obter os dados a partir de um `value_counts` ou usando a função `histogram` do NumPy."
   ]
  },
  {
   "cell_type": "markdown",
   "metadata": {},
   "source": [
    "<div style=\"background-color: #E2A038; border: #E2A038 solid 1px; margin-left: 2em; padding-left: 5px\"><div style=\"background-color: #F5EEE3; width: 100%; padding: 10px\">\n",
    "\n",
    "Faça um gráfico circular (*pie chart*) comparando o número de atletas que não ganharam nenhuma medalha com o número de atletas que ganharam alguma medalha.\n",
    "</div></div>"
   ]
  },
  {
   "cell_type": "code",
   "execution_count": 38,
   "metadata": {},
   "outputs": [],
   "source": [
    "medalhas_sim = londres[londres['Total'] >= 1]\n",
    "nao_medalhas = londres[londres['Total'] == 0]"
   ]
  },
  {
   "cell_type": "code",
   "execution_count": 42,
   "metadata": {},
   "outputs": [],
   "source": [
    "quantidade_não = nao_medalhas.shape[0]\n",
    "quantidade_medalhistas = medalhas_sim.shape[0]"
   ]
  },
  {
   "cell_type": "code",
   "execution_count": 43,
   "metadata": {},
   "outputs": [],
   "source": [
    "sns.set_palette('pastel')"
   ]
  },
  {
   "cell_type": "code",
   "execution_count": 47,
   "metadata": {},
   "outputs": [
    {
     "data": {
      "image/png": "[encoded data removed]",
      "text/plain": [
       "<Figure size 640x480 with 1 Axes>"
      ]
     },
     "metadata": {},
     "output_type": "display_data"
    }
   ],
   "source": [
    "medalhas = londres.Total.value_counts()\n",
    "plt.pie([quantidade_medalhistas , quantidade_não], labels=['Medalhistas','Não medalhistas']);  # complete aqui"
   ]
  },
  {
   "cell_type": "markdown",
   "metadata": {},
   "source": [
    "<div style=\"background-color: #3976E4; border: #3976E4 solid 1px; margin-left: 2em; padding-left: 5px\"><div style=\"background-color: #A9B8D1; width: 100%; padding: 10px\">\n",
    "\n",
    "Como um teste, refaça o gráfico do item anterior, passando agora o argumento `explode=[0, 0.2]` para a função `pie`. Observe o que acontece com o segmento do gráfico que representa os atletas medalhistas.\n",
    "</div></div>"
   ]
  },
  {
   "cell_type": "code",
   "execution_count": 49,
   "metadata": {},
   "outputs": [
    {
     "data": {
      "image/png": "[encoded data removed]",
      "text/plain": [
       "<Figure size 640x480 with 1 Axes>"
      ]
     },
     "metadata": {},
     "output_type": "display_data"
    }
   ],
   "source": [
    "plt.pie([quantidade_medalhistas , quantidade_não],\n",
    "        autopct='%.2f%%', explode=[0, 0.2],\n",
    "        labels=['Não medalhitas', 'Medalhistas']);\n",
    "plt.title('Proporção de atletas medalhistas e não medalhistas');"
   ]
  },
  {
   "cell_type": "markdown",
   "metadata": {},
   "source": [
    "<div style=\"background-color: #E2A038; border: #E2A038 solid 1px; margin-left: 2em; padding-left: 5px\"><div style=\"background-color: #F5EEE3; width: 100%; padding: 10px\">\n",
    "\n",
    "Gere um gráfico circular para atletas que ganharam uma medalha e atletas que ganharam duas ou mais medalhas.\n",
    "</div></div>"
   ]
  },
  {
   "cell_type": "code",
   "execution_count": 51,
   "metadata": {},
   "outputs": [],
   "source": [
    "dois_ou_mais_medalhas = londres[londres['Total'] >= 2]\n",
    "dois_ou_mais_quantidade = dois_ou_mais_medalhas.shape[0]"
   ]
  },
  {
   "cell_type": "code",
   "execution_count": 54,
   "metadata": {},
   "outputs": [
    {
     "data": {
      "image/png": "[encoded data removed]",
      "text/plain": [
       "<Figure size 640x480 with 1 Axes>"
      ]
     },
     "metadata": {},
     "output_type": "display_data"
    }
   ],
   "source": [
    "plt.pie([quantidade_medalhistas,dois_ou_mais_quantidade],\n",
    "        labels=['1 medalha', '2+ medalhas'],\n",
    "        autopct='%.2f%%');\n",
    "plt.title('Ganhadores de uma e mais de uma medalha');"
   ]
  },
  {
   "cell_type": "markdown",
   "metadata": {},
   "source": [
    "<div style=\"background-color: #E2A038; border: #E2A038 solid 1px; margin-left: 2em; padding-left: 5px\"><div style=\"background-color: #F5EEE3; width: 100%; padding: 10px\">\n",
    "\n",
    "Utilizando *subplots*, faça uma figura que contém os dois gráficos anteriores, lado a lado, representando duas visões do total de medalhas. A figura deverá ser parecida com a que aparece no *slide* 38 da apresentação `04-Pandas`.\n",
    "</div></div>"
   ]
  },
  {
   "cell_type": "markdown",
   "metadata": {},
   "source": [
    "<div style=\"background-color: #3976E4; border: #3976E4 solid 1px; margin-left: 2em; padding-left: 5px\"><div style=\"background-color: #A9B8D1; width: 100%; padding: 10px\">\n",
    "\n",
    "**Dica:** utilize `plt.subplots_adjust(right=1.2)` ou outro vaor adequado para ajustar os *subplots*\n",
    "</div></div>"
   ]
  },
  {
   "cell_type": "markdown",
   "metadata": {},
   "source": [
    "<div style=\"background-color: #3976E4; border: #3976E4 solid 1px; margin-left: 2em; padding-left: 5px\"><div style=\"background-color: #A9B8D1; width: 100%; padding: 10px\">\n",
    "\n",
    "**Dica:** você pode utilizar `\\n` para fazer quebras de linha no título\n",
    "</div></div>"
   ]
  },
  {
   "cell_type": "code",
   "execution_count": 69,
   "metadata": {},
   "outputs": [
    {
     "data": {
      "image/png": "[encoded data removed]",
      "text/plain": [
       "<Figure size 640x480 with 2 Axes>"
      ]
     },
     "metadata": {},
     "output_type": "display_data"
    }
   ],
   "source": [
    "fig, ax = plt.subplots(ncols = 2) \n",
    "ax[0].pie([quantidade_medalhistas , quantidade_não],\n",
    "        autopct='%.2f%%', explode=[0, 0.2],\n",
    "        labels=['Não medalhitas', 'Medalhistas'])\n",
    "ax[1].pie([quantidade_medalhistas,dois_ou_mais_quantidade],\n",
    "        labels=['1 medalha', '2+ medalhas'],\n",
    "        autopct='%.2f%%')\n",
    "ax[0].set_title('Proporção de atletas medalhistas e não medalhistas')\n",
    "ax[1].set_title('Ganhadores de uma e mais de uma medalha')\n",
    "plt.subplots_adjust(right=1.8)"
   ]
  },
  {
   "cell_type": "markdown",
   "metadata": {},
   "source": [
    "## Exercício 4"
   ]
  },
  {
   "cell_type": "markdown",
   "metadata": {},
   "source": [
    "<div style=\"background-color: #E2A038; border: #E2A038 solid 1px; margin-left: 2em; padding-left: 5px\"><div style=\"background-color: #F5EEE3; width: 100%; padding: 10px\">\n",
    "\n",
    "Substitua a altura e o peso de todos os atletas com valores ausentes por médias das amostras\n",
    "</div></div>"
   ]
  },
  {
   "cell_type": "code",
   "execution_count": 5,
   "metadata": {},
   "outputs": [
    {
     "data": {
      "text/html": [
       "<div>\n",
       "<style scoped>\n",
       "    .dataframe tbody tr th:only-of-type {\n",
       "        vertical-align: middle;\n",
       "    }\n",
       "\n",
       "    .dataframe tbody tr th {\n",
       "        vertical-align: top;\n",
       "    }\n",
       "\n",
       "    .dataframe thead th {\n",
       "        text-align: right;\n",
       "    }\n",
       "</style>\n",
       "<table border=\"1\" class=\"dataframe\">\n",
       "  <thead>\n",
       "    <tr style=\"text-align: right;\">\n",
       "      <th></th>\n",
       "      <th>ID</th>\n",
       "      <th>Age</th>\n",
       "      <th>Height</th>\n",
       "      <th>Weight</th>\n",
       "      <th>Sex</th>\n",
       "      <th>Total</th>\n",
       "      <th>Sport</th>\n",
       "    </tr>\n",
       "  </thead>\n",
       "  <tbody>\n",
       "    <tr>\n",
       "      <th>0</th>\n",
       "      <td>0</td>\n",
       "      <td>23</td>\n",
       "      <td>170.0</td>\n",
       "      <td>60.0</td>\n",
       "      <td>M</td>\n",
       "      <td>0</td>\n",
       "      <td>Judo</td>\n",
       "    </tr>\n",
       "    <tr>\n",
       "      <th>1</th>\n",
       "      <td>1</td>\n",
       "      <td>33</td>\n",
       "      <td>193.0</td>\n",
       "      <td>125.0</td>\n",
       "      <td>M</td>\n",
       "      <td>0</td>\n",
       "      <td>Athletics</td>\n",
       "    </tr>\n",
       "    <tr>\n",
       "      <th>2</th>\n",
       "      <td>2</td>\n",
       "      <td>30</td>\n",
       "      <td>187.0</td>\n",
       "      <td>76.0</td>\n",
       "      <td>M</td>\n",
       "      <td>0</td>\n",
       "      <td>Athletics</td>\n",
       "    </tr>\n",
       "    <tr>\n",
       "      <th>3</th>\n",
       "      <td>3</td>\n",
       "      <td>24</td>\n",
       "      <td>NaN</td>\n",
       "      <td>NaN</td>\n",
       "      <td>M</td>\n",
       "      <td>0</td>\n",
       "      <td>Boxing</td>\n",
       "    </tr>\n",
       "    <tr>\n",
       "      <th>4</th>\n",
       "      <td>4</td>\n",
       "      <td>26</td>\n",
       "      <td>178.0</td>\n",
       "      <td>85.0</td>\n",
       "      <td>F</td>\n",
       "      <td>0</td>\n",
       "      <td>Athletics</td>\n",
       "    </tr>\n",
       "    <tr>\n",
       "      <th>...</th>\n",
       "      <td>...</td>\n",
       "      <td>...</td>\n",
       "      <td>...</td>\n",
       "      <td>...</td>\n",
       "      <td>...</td>\n",
       "      <td>...</td>\n",
       "      <td>...</td>\n",
       "    </tr>\n",
       "    <tr>\n",
       "      <th>10379</th>\n",
       "      <td>10379</td>\n",
       "      <td>24</td>\n",
       "      <td>171.0</td>\n",
       "      <td>87.0</td>\n",
       "      <td>F</td>\n",
       "      <td>0</td>\n",
       "      <td>Athletics</td>\n",
       "    </tr>\n",
       "    <tr>\n",
       "      <th>10380</th>\n",
       "      <td>10380</td>\n",
       "      <td>28</td>\n",
       "      <td>172.0</td>\n",
       "      <td>56.0</td>\n",
       "      <td>F</td>\n",
       "      <td>0</td>\n",
       "      <td>Athletics</td>\n",
       "    </tr>\n",
       "    <tr>\n",
       "      <th>10381</th>\n",
       "      <td>10381</td>\n",
       "      <td>27</td>\n",
       "      <td>180.0</td>\n",
       "      <td>87.0</td>\n",
       "      <td>M</td>\n",
       "      <td>0</td>\n",
       "      <td>Handball</td>\n",
       "    </tr>\n",
       "    <tr>\n",
       "      <th>10382</th>\n",
       "      <td>10382</td>\n",
       "      <td>25</td>\n",
       "      <td>173.0</td>\n",
       "      <td>62.0</td>\n",
       "      <td>F</td>\n",
       "      <td>0</td>\n",
       "      <td>Athletics</td>\n",
       "    </tr>\n",
       "    <tr>\n",
       "      <th>10383</th>\n",
       "      <td>10383</td>\n",
       "      <td>24</td>\n",
       "      <td>221.0</td>\n",
       "      <td>110.0</td>\n",
       "      <td>M</td>\n",
       "      <td>0</td>\n",
       "      <td>Basketball</td>\n",
       "    </tr>\n",
       "  </tbody>\n",
       "</table>\n",
       "<p>10384 rows × 7 columns</p>\n",
       "</div>"
      ],
      "text/plain": [
       "          ID  Age  Height  Weight Sex  Total       Sport\n",
       "0          0   23   170.0    60.0   M      0        Judo\n",
       "1          1   33   193.0   125.0   M      0   Athletics\n",
       "2          2   30   187.0    76.0   M      0   Athletics\n",
       "3          3   24     NaN     NaN   M      0      Boxing\n",
       "4          4   26   178.0    85.0   F      0   Athletics\n",
       "...      ...  ...     ...     ...  ..    ...         ...\n",
       "10379  10379   24   171.0    87.0   F      0   Athletics\n",
       "10380  10380   28   172.0    56.0   F      0   Athletics\n",
       "10381  10381   27   180.0    87.0   M      0    Handball\n",
       "10382  10382   25   173.0    62.0   F      0   Athletics\n",
       "10383  10383   24   221.0   110.0   M      0  Basketball\n",
       "\n",
       "[10384 rows x 7 columns]"
      ]
     },
     "execution_count": 5,
     "metadata": {},
     "output_type": "execute_result"
    }
   ],
   "source": [
    "londres"
   ]
  },
  {
   "cell_type": "code",
   "execution_count": 16,
   "metadata": {},
   "outputs": [],
   "source": [
    "londres['Height'] = londres['Height'].fillna(londres['Height'].mean()).astype(int)"
   ]
  },
  {
   "cell_type": "code",
   "execution_count": 17,
   "metadata": {},
   "outputs": [
    {
     "data": {
      "text/html": [
       "<div>\n",
       "<style scoped>\n",
       "    .dataframe tbody tr th:only-of-type {\n",
       "        vertical-align: middle;\n",
       "    }\n",
       "\n",
       "    .dataframe tbody tr th {\n",
       "        vertical-align: top;\n",
       "    }\n",
       "\n",
       "    .dataframe thead th {\n",
       "        text-align: right;\n",
       "    }\n",
       "</style>\n",
       "<table border=\"1\" class=\"dataframe\">\n",
       "  <thead>\n",
       "    <tr style=\"text-align: right;\">\n",
       "      <th></th>\n",
       "      <th>ID</th>\n",
       "      <th>Age</th>\n",
       "      <th>Height</th>\n",
       "      <th>Weight</th>\n",
       "      <th>Sex</th>\n",
       "      <th>Total</th>\n",
       "      <th>Sport</th>\n",
       "      <th>IBM</th>\n",
       "    </tr>\n",
       "  </thead>\n",
       "  <tbody>\n",
       "    <tr>\n",
       "      <th>0</th>\n",
       "      <td>0</td>\n",
       "      <td>23</td>\n",
       "      <td>170</td>\n",
       "      <td>60.000000</td>\n",
       "      <td>M</td>\n",
       "      <td>0</td>\n",
       "      <td>Judo</td>\n",
       "      <td>0.352941</td>\n",
       "    </tr>\n",
       "    <tr>\n",
       "      <th>1</th>\n",
       "      <td>1</td>\n",
       "      <td>33</td>\n",
       "      <td>193</td>\n",
       "      <td>125.000000</td>\n",
       "      <td>M</td>\n",
       "      <td>0</td>\n",
       "      <td>Athletics</td>\n",
       "      <td>0.647668</td>\n",
       "    </tr>\n",
       "    <tr>\n",
       "      <th>2</th>\n",
       "      <td>2</td>\n",
       "      <td>30</td>\n",
       "      <td>187</td>\n",
       "      <td>76.000000</td>\n",
       "      <td>M</td>\n",
       "      <td>0</td>\n",
       "      <td>Athletics</td>\n",
       "      <td>0.406417</td>\n",
       "    </tr>\n",
       "    <tr>\n",
       "      <th>3</th>\n",
       "      <td>3</td>\n",
       "      <td>24</td>\n",
       "      <td>176</td>\n",
       "      <td>72.852812</td>\n",
       "      <td>M</td>\n",
       "      <td>0</td>\n",
       "      <td>Boxing</td>\n",
       "      <td>0.411812</td>\n",
       "    </tr>\n",
       "    <tr>\n",
       "      <th>4</th>\n",
       "      <td>4</td>\n",
       "      <td>26</td>\n",
       "      <td>178</td>\n",
       "      <td>85.000000</td>\n",
       "      <td>F</td>\n",
       "      <td>0</td>\n",
       "      <td>Athletics</td>\n",
       "      <td>0.477528</td>\n",
       "    </tr>\n",
       "    <tr>\n",
       "      <th>...</th>\n",
       "      <td>...</td>\n",
       "      <td>...</td>\n",
       "      <td>...</td>\n",
       "      <td>...</td>\n",
       "      <td>...</td>\n",
       "      <td>...</td>\n",
       "      <td>...</td>\n",
       "      <td>...</td>\n",
       "    </tr>\n",
       "    <tr>\n",
       "      <th>10379</th>\n",
       "      <td>10379</td>\n",
       "      <td>24</td>\n",
       "      <td>171</td>\n",
       "      <td>87.000000</td>\n",
       "      <td>F</td>\n",
       "      <td>0</td>\n",
       "      <td>Athletics</td>\n",
       "      <td>0.508772</td>\n",
       "    </tr>\n",
       "    <tr>\n",
       "      <th>10380</th>\n",
       "      <td>10380</td>\n",
       "      <td>28</td>\n",
       "      <td>172</td>\n",
       "      <td>56.000000</td>\n",
       "      <td>F</td>\n",
       "      <td>0</td>\n",
       "      <td>Athletics</td>\n",
       "      <td>0.325581</td>\n",
       "    </tr>\n",
       "    <tr>\n",
       "      <th>10381</th>\n",
       "      <td>10381</td>\n",
       "      <td>27</td>\n",
       "      <td>180</td>\n",
       "      <td>87.000000</td>\n",
       "      <td>M</td>\n",
       "      <td>0</td>\n",
       "      <td>Handball</td>\n",
       "      <td>0.483333</td>\n",
       "    </tr>\n",
       "    <tr>\n",
       "      <th>10382</th>\n",
       "      <td>10382</td>\n",
       "      <td>25</td>\n",
       "      <td>173</td>\n",
       "      <td>62.000000</td>\n",
       "      <td>F</td>\n",
       "      <td>0</td>\n",
       "      <td>Athletics</td>\n",
       "      <td>0.358382</td>\n",
       "    </tr>\n",
       "    <tr>\n",
       "      <th>10383</th>\n",
       "      <td>10383</td>\n",
       "      <td>24</td>\n",
       "      <td>221</td>\n",
       "      <td>110.000000</td>\n",
       "      <td>M</td>\n",
       "      <td>0</td>\n",
       "      <td>Basketball</td>\n",
       "      <td>0.497738</td>\n",
       "    </tr>\n",
       "  </tbody>\n",
       "</table>\n",
       "<p>10384 rows × 8 columns</p>\n",
       "</div>"
      ],
      "text/plain": [
       "          ID  Age  Height      Weight Sex  Total       Sport       IBM\n",
       "0          0   23     170   60.000000   M      0        Judo  0.352941\n",
       "1          1   33     193  125.000000   M      0   Athletics  0.647668\n",
       "2          2   30     187   76.000000   M      0   Athletics  0.406417\n",
       "3          3   24     176   72.852812   M      0      Boxing  0.411812\n",
       "4          4   26     178   85.000000   F      0   Athletics  0.477528\n",
       "...      ...  ...     ...         ...  ..    ...         ...       ...\n",
       "10379  10379   24     171   87.000000   F      0   Athletics  0.508772\n",
       "10380  10380   28     172   56.000000   F      0   Athletics  0.325581\n",
       "10381  10381   27     180   87.000000   M      0    Handball  0.483333\n",
       "10382  10382   25     173   62.000000   F      0   Athletics  0.358382\n",
       "10383  10383   24     221  110.000000   M      0  Basketball  0.497738\n",
       "\n",
       "[10384 rows x 8 columns]"
      ]
     },
     "execution_count": 17,
     "metadata": {},
     "output_type": "execute_result"
    }
   ],
   "source": [
    "londres"
   ]
  },
  {
   "cell_type": "code",
   "execution_count": 18,
   "metadata": {},
   "outputs": [],
   "source": [
    "londres['Weight'] = londres['Weight'].fillna(londres['Weight'].mean()).astype(int)"
   ]
  },
  {
   "cell_type": "code",
   "execution_count": 19,
   "metadata": {},
   "outputs": [
    {
     "data": {
      "text/html": [
       "<div>\n",
       "<style scoped>\n",
       "    .dataframe tbody tr th:only-of-type {\n",
       "        vertical-align: middle;\n",
       "    }\n",
       "\n",
       "    .dataframe tbody tr th {\n",
       "        vertical-align: top;\n",
       "    }\n",
       "\n",
       "    .dataframe thead th {\n",
       "        text-align: right;\n",
       "    }\n",
       "</style>\n",
       "<table border=\"1\" class=\"dataframe\">\n",
       "  <thead>\n",
       "    <tr style=\"text-align: right;\">\n",
       "      <th></th>\n",
       "      <th>ID</th>\n",
       "      <th>Age</th>\n",
       "      <th>Height</th>\n",
       "      <th>Weight</th>\n",
       "      <th>Sex</th>\n",
       "      <th>Total</th>\n",
       "      <th>Sport</th>\n",
       "      <th>IBM</th>\n",
       "    </tr>\n",
       "  </thead>\n",
       "  <tbody>\n",
       "    <tr>\n",
       "      <th>0</th>\n",
       "      <td>0</td>\n",
       "      <td>23</td>\n",
       "      <td>170</td>\n",
       "      <td>60</td>\n",
       "      <td>M</td>\n",
       "      <td>0</td>\n",
       "      <td>Judo</td>\n",
       "      <td>0.352941</td>\n",
       "    </tr>\n",
       "    <tr>\n",
       "      <th>1</th>\n",
       "      <td>1</td>\n",
       "      <td>33</td>\n",
       "      <td>193</td>\n",
       "      <td>125</td>\n",
       "      <td>M</td>\n",
       "      <td>0</td>\n",
       "      <td>Athletics</td>\n",
       "      <td>0.647668</td>\n",
       "    </tr>\n",
       "    <tr>\n",
       "      <th>2</th>\n",
       "      <td>2</td>\n",
       "      <td>30</td>\n",
       "      <td>187</td>\n",
       "      <td>76</td>\n",
       "      <td>M</td>\n",
       "      <td>0</td>\n",
       "      <td>Athletics</td>\n",
       "      <td>0.406417</td>\n",
       "    </tr>\n",
       "    <tr>\n",
       "      <th>3</th>\n",
       "      <td>3</td>\n",
       "      <td>24</td>\n",
       "      <td>176</td>\n",
       "      <td>72</td>\n",
       "      <td>M</td>\n",
       "      <td>0</td>\n",
       "      <td>Boxing</td>\n",
       "      <td>0.411812</td>\n",
       "    </tr>\n",
       "    <tr>\n",
       "      <th>4</th>\n",
       "      <td>4</td>\n",
       "      <td>26</td>\n",
       "      <td>178</td>\n",
       "      <td>85</td>\n",
       "      <td>F</td>\n",
       "      <td>0</td>\n",
       "      <td>Athletics</td>\n",
       "      <td>0.477528</td>\n",
       "    </tr>\n",
       "    <tr>\n",
       "      <th>...</th>\n",
       "      <td>...</td>\n",
       "      <td>...</td>\n",
       "      <td>...</td>\n",
       "      <td>...</td>\n",
       "      <td>...</td>\n",
       "      <td>...</td>\n",
       "      <td>...</td>\n",
       "      <td>...</td>\n",
       "    </tr>\n",
       "    <tr>\n",
       "      <th>10379</th>\n",
       "      <td>10379</td>\n",
       "      <td>24</td>\n",
       "      <td>171</td>\n",
       "      <td>87</td>\n",
       "      <td>F</td>\n",
       "      <td>0</td>\n",
       "      <td>Athletics</td>\n",
       "      <td>0.508772</td>\n",
       "    </tr>\n",
       "    <tr>\n",
       "      <th>10380</th>\n",
       "      <td>10380</td>\n",
       "      <td>28</td>\n",
       "      <td>172</td>\n",
       "      <td>56</td>\n",
       "      <td>F</td>\n",
       "      <td>0</td>\n",
       "      <td>Athletics</td>\n",
       "      <td>0.325581</td>\n",
       "    </tr>\n",
       "    <tr>\n",
       "      <th>10381</th>\n",
       "      <td>10381</td>\n",
       "      <td>27</td>\n",
       "      <td>180</td>\n",
       "      <td>87</td>\n",
       "      <td>M</td>\n",
       "      <td>0</td>\n",
       "      <td>Handball</td>\n",
       "      <td>0.483333</td>\n",
       "    </tr>\n",
       "    <tr>\n",
       "      <th>10382</th>\n",
       "      <td>10382</td>\n",
       "      <td>25</td>\n",
       "      <td>173</td>\n",
       "      <td>62</td>\n",
       "      <td>F</td>\n",
       "      <td>0</td>\n",
       "      <td>Athletics</td>\n",
       "      <td>0.358382</td>\n",
       "    </tr>\n",
       "    <tr>\n",
       "      <th>10383</th>\n",
       "      <td>10383</td>\n",
       "      <td>24</td>\n",
       "      <td>221</td>\n",
       "      <td>110</td>\n",
       "      <td>M</td>\n",
       "      <td>0</td>\n",
       "      <td>Basketball</td>\n",
       "      <td>0.497738</td>\n",
       "    </tr>\n",
       "  </tbody>\n",
       "</table>\n",
       "<p>10384 rows × 8 columns</p>\n",
       "</div>"
      ],
      "text/plain": [
       "          ID  Age  Height  Weight Sex  Total       Sport       IBM\n",
       "0          0   23     170      60   M      0        Judo  0.352941\n",
       "1          1   33     193     125   M      0   Athletics  0.647668\n",
       "2          2   30     187      76   M      0   Athletics  0.406417\n",
       "3          3   24     176      72   M      0      Boxing  0.411812\n",
       "4          4   26     178      85   F      0   Athletics  0.477528\n",
       "...      ...  ...     ...     ...  ..    ...         ...       ...\n",
       "10379  10379   24     171      87   F      0   Athletics  0.508772\n",
       "10380  10380   28     172      56   F      0   Athletics  0.325581\n",
       "10381  10381   27     180      87   M      0    Handball  0.483333\n",
       "10382  10382   25     173      62   F      0   Athletics  0.358382\n",
       "10383  10383   24     221     110   M      0  Basketball  0.497738\n",
       "\n",
       "[10384 rows x 8 columns]"
      ]
     },
     "execution_count": 19,
     "metadata": {},
     "output_type": "execute_result"
    }
   ],
   "source": [
    "londres"
   ]
  },
  {
   "cell_type": "markdown",
   "metadata": {},
   "source": [
    "<div style=\"background-color: #E2A038; border: #E2A038 solid 1px; margin-left: 2em; padding-left: 5px\"><div style=\"background-color: #F5EEE3; width: 100%; padding: 10px\">\n",
    "\n",
    "Crie um atributo chamado BMI (*body mass index*) utilizando a relação a seguir.\n",
    "</div></div>"
   ]
  },
  {
   "cell_type": "markdown",
   "metadata": {},
   "source": [
    "$$\\text{BMI} = \\frac{\\text{peso}_{kg}}{\\text{altura}^2_{m}}$$"
   ]
  },
  {
   "cell_type": "code",
   "execution_count": 46,
   "metadata": {},
   "outputs": [],
   "source": [
    "londres['IBM'] = londres['Weight'] / ((londres['Height'] / 100) ** 2)"
   ]
  },
  {
   "cell_type": "code",
   "execution_count": 47,
   "metadata": {},
   "outputs": [
    {
     "data": {
      "text/html": [
       "<div>\n",
       "<style scoped>\n",
       "    .dataframe tbody tr th:only-of-type {\n",
       "        vertical-align: middle;\n",
       "    }\n",
       "\n",
       "    .dataframe tbody tr th {\n",
       "        vertical-align: top;\n",
       "    }\n",
       "\n",
       "    .dataframe thead th {\n",
       "        text-align: right;\n",
       "    }\n",
       "</style>\n",
       "<table border=\"1\" class=\"dataframe\">\n",
       "  <thead>\n",
       "    <tr style=\"text-align: right;\">\n",
       "      <th></th>\n",
       "      <th>ID</th>\n",
       "      <th>Age</th>\n",
       "      <th>Height</th>\n",
       "      <th>Weight</th>\n",
       "      <th>Sex</th>\n",
       "      <th>Total</th>\n",
       "      <th>Sport</th>\n",
       "      <th>IBM</th>\n",
       "    </tr>\n",
       "  </thead>\n",
       "  <tbody>\n",
       "    <tr>\n",
       "      <th>0</th>\n",
       "      <td>0</td>\n",
       "      <td>23</td>\n",
       "      <td>170</td>\n",
       "      <td>60</td>\n",
       "      <td>M</td>\n",
       "      <td>0</td>\n",
       "      <td>Judo</td>\n",
       "      <td>20.761246</td>\n",
       "    </tr>\n",
       "    <tr>\n",
       "      <th>1</th>\n",
       "      <td>1</td>\n",
       "      <td>33</td>\n",
       "      <td>193</td>\n",
       "      <td>125</td>\n",
       "      <td>M</td>\n",
       "      <td>0</td>\n",
       "      <td>Athletics</td>\n",
       "      <td>33.557948</td>\n",
       "    </tr>\n",
       "    <tr>\n",
       "      <th>2</th>\n",
       "      <td>2</td>\n",
       "      <td>30</td>\n",
       "      <td>187</td>\n",
       "      <td>76</td>\n",
       "      <td>M</td>\n",
       "      <td>0</td>\n",
       "      <td>Athletics</td>\n",
       "      <td>21.733535</td>\n",
       "    </tr>\n",
       "    <tr>\n",
       "      <th>3</th>\n",
       "      <td>3</td>\n",
       "      <td>24</td>\n",
       "      <td>176</td>\n",
       "      <td>72</td>\n",
       "      <td>M</td>\n",
       "      <td>0</td>\n",
       "      <td>Boxing</td>\n",
       "      <td>23.243802</td>\n",
       "    </tr>\n",
       "    <tr>\n",
       "      <th>4</th>\n",
       "      <td>4</td>\n",
       "      <td>26</td>\n",
       "      <td>178</td>\n",
       "      <td>85</td>\n",
       "      <td>F</td>\n",
       "      <td>0</td>\n",
       "      <td>Athletics</td>\n",
       "      <td>26.827421</td>\n",
       "    </tr>\n",
       "    <tr>\n",
       "      <th>...</th>\n",
       "      <td>...</td>\n",
       "      <td>...</td>\n",
       "      <td>...</td>\n",
       "      <td>...</td>\n",
       "      <td>...</td>\n",
       "      <td>...</td>\n",
       "      <td>...</td>\n",
       "      <td>...</td>\n",
       "    </tr>\n",
       "    <tr>\n",
       "      <th>10379</th>\n",
       "      <td>10379</td>\n",
       "      <td>24</td>\n",
       "      <td>171</td>\n",
       "      <td>87</td>\n",
       "      <td>F</td>\n",
       "      <td>0</td>\n",
       "      <td>Athletics</td>\n",
       "      <td>29.752744</td>\n",
       "    </tr>\n",
       "    <tr>\n",
       "      <th>10380</th>\n",
       "      <td>10380</td>\n",
       "      <td>28</td>\n",
       "      <td>172</td>\n",
       "      <td>56</td>\n",
       "      <td>F</td>\n",
       "      <td>0</td>\n",
       "      <td>Athletics</td>\n",
       "      <td>18.929151</td>\n",
       "    </tr>\n",
       "    <tr>\n",
       "      <th>10381</th>\n",
       "      <td>10381</td>\n",
       "      <td>27</td>\n",
       "      <td>180</td>\n",
       "      <td>87</td>\n",
       "      <td>M</td>\n",
       "      <td>0</td>\n",
       "      <td>Handball</td>\n",
       "      <td>26.851852</td>\n",
       "    </tr>\n",
       "    <tr>\n",
       "      <th>10382</th>\n",
       "      <td>10382</td>\n",
       "      <td>25</td>\n",
       "      <td>173</td>\n",
       "      <td>62</td>\n",
       "      <td>F</td>\n",
       "      <td>0</td>\n",
       "      <td>Athletics</td>\n",
       "      <td>20.715694</td>\n",
       "    </tr>\n",
       "    <tr>\n",
       "      <th>10383</th>\n",
       "      <td>10383</td>\n",
       "      <td>24</td>\n",
       "      <td>221</td>\n",
       "      <td>110</td>\n",
       "      <td>M</td>\n",
       "      <td>0</td>\n",
       "      <td>Basketball</td>\n",
       "      <td>22.522061</td>\n",
       "    </tr>\n",
       "  </tbody>\n",
       "</table>\n",
       "<p>10384 rows × 8 columns</p>\n",
       "</div>"
      ],
      "text/plain": [
       "          ID  Age  Height  Weight Sex  Total       Sport        IBM\n",
       "0          0   23     170      60   M      0        Judo  20.761246\n",
       "1          1   33     193     125   M      0   Athletics  33.557948\n",
       "2          2   30     187      76   M      0   Athletics  21.733535\n",
       "3          3   24     176      72   M      0      Boxing  23.243802\n",
       "4          4   26     178      85   F      0   Athletics  26.827421\n",
       "...      ...  ...     ...     ...  ..    ...         ...        ...\n",
       "10379  10379   24     171      87   F      0   Athletics  29.752744\n",
       "10380  10380   28     172      56   F      0   Athletics  18.929151\n",
       "10381  10381   27     180      87   M      0    Handball  26.851852\n",
       "10382  10382   25     173      62   F      0   Athletics  20.715694\n",
       "10383  10383   24     221     110   M      0  Basketball  22.522061\n",
       "\n",
       "[10384 rows x 8 columns]"
      ]
     },
     "execution_count": 47,
     "metadata": {},
     "output_type": "execute_result"
    }
   ],
   "source": [
    "londres"
   ]
  },
  {
   "cell_type": "markdown",
   "metadata": {},
   "source": [
    "<div style=\"background-color: #E2A038; border: #E2A038 solid 1px; margin-left: 2em; padding-left: 5px\"><div style=\"background-color: #F5EEE3; width: 100%; padding: 10px\">\n",
    "\n",
    "Gere um histograma da distribuição do IMC.\n",
    "</div></div>"
   ]
  },
  {
   "cell_type": "code",
   "execution_count": 48,
   "metadata": {},
   "outputs": [
    {
     "name": "stdout",
     "output_type": "stream",
     "text": [
      "Index(['ID', 'Age', 'Height', 'Weight', 'Sex', 'Total', 'Sport', 'IBM'], dtype='object')\n"
     ]
    }
   ],
   "source": [
    "print(londres.columns)"
   ]
  },
  {
   "cell_type": "code",
   "execution_count": 49,
   "metadata": {},
   "outputs": [
    {
     "data": {
      "text/plain": [
       "(array([5.000e+01, 3.783e+03, 5.672e+03, 6.860e+02, 1.420e+02, 3.400e+01,\n",
       "        1.100e+01, 3.000e+00, 1.000e+00, 2.000e+00]),\n",
       " array([11.4552683 , 16.67935433, 21.90344035, 27.12752638, 32.3516124 ,\n",
       "        37.57569843, 42.79978446, 48.02387048, 53.24795651, 58.47204253,\n",
       "        63.69612856]),\n",
       " <BarContainer object of 10 artists>)"
      ]
     },
     "execution_count": 49,
     "metadata": {},
     "output_type": "execute_result"
    },
    {
     "data": {
      "image/png": "[encoded data removed]",
      "text/plain": [
       "<Figure size 640x480 with 1 Axes>"
      ]
     },
     "metadata": {},
     "output_type": "display_data"
    }
   ],
   "source": [
    "import matplotlib.pyplot as plt\n",
    "plt.hist(londres['IBM'], color='skyblue')"
   ]
  },
  {
   "cell_type": "markdown",
   "metadata": {},
   "source": [
    "<div style=\"background-color: #E2A038; border: #E2A038 solid 1px; margin-left: 2em; padding-left: 5px\"><div style=\"background-color: #F5EEE3; width: 100%; padding: 10px\">\n",
    "\n",
    "Existe diferença entre o ICM entre homens e mulheres?\n",
    "</div></div>"
   ]
  },
  {
   "cell_type": "markdown",
   "metadata": {},
   "source": [
    "<div style=\"background-color: #3976E4; border: #3976E4 solid 1px; margin-left: 2em; padding-left: 5px\"><div style=\"background-color: #A9B8D1; width: 100%; padding: 10px\">\n",
    "\n",
    "**Dica:** você pode utilizar *subplots* ou especificar um *alpha* para plotar dois histogramas\n",
    "</div></div>"
   ]
  },
  {
   "cell_type": "code",
   "execution_count": 63,
   "metadata": {},
   "outputs": [],
   "source": [
    "import matplotlib.pyplot as plt\n",
    "# Filtrar apenas atletas do sexo feminino\n",
    "mulheres = londres[londres['Sex'] == 'F']\n",
    "ibmm = mulheres['IBM']"
   ]
  },
  {
   "cell_type": "code",
   "execution_count": 64,
   "metadata": {},
   "outputs": [],
   "source": [
    "import matplotlib.pyplot as plt\n",
    "homens = londres[londres['Sex'] == 'M']\n",
    "ibmh = homens['IBM']"
   ]
  },
  {
   "cell_type": "code",
   "execution_count": 65,
   "metadata": {},
   "outputs": [
    {
     "data": {
      "image/png": "[encoded data removed]",
      "text/plain": [
       "<Figure size 1200x500 with 2 Axes>"
      ]
     },
     "metadata": {},
     "output_type": "display_data"
    }
   ],
   "source": [
    "fig, axes = plt.subplots(1, 2, figsize=(12, 5))  \n",
    "# Primeiro histograma\n",
    "axes[0].hist(ibmh, color='skyblue')\n",
    "axes[0].set_title('Homens IBM')\n",
    "# Segundo histograma\n",
    "axes[1].hist(ibmm, color='pink')\n",
    "axes[1].set_title('Mulheres IBM')\n",
    "plt.tight_layout()\n",
    "plt.show()"
   ]
  },
  {
   "cell_type": "markdown",
   "metadata": {},
   "source": [
    "<div style=\"background-color: #E2A038; border: #E2A038 solid 1px; margin-left: 2em; padding-left: 5px\"><div style=\"background-color: #F5EEE3; width: 100%; padding: 10px\">\n",
    "\n",
    "Os dados possuem uma cauda muito longa à direita. Faça um histograma apenas dos atletas que possuem IMC maior ou igual a 30\n",
    "</div></div>"
   ]
  },
  {
   "cell_type": "code",
   "execution_count": 66,
   "metadata": {},
   "outputs": [
    {
     "data": {
      "text/plain": [
       "(array([212.,  92.,  32.,  16.,   3.,   3.,   2.,   1.,   0.,   2.]),\n",
       " array([30.        , 33.36961286, 36.73922571, 40.10883857, 43.47845142,\n",
       "        46.84806428, 50.21767714, 53.58728999, 56.95690285, 60.3265157 ,\n",
       "        63.69612856]),\n",
       " <BarContainer object of 10 artists>)"
      ]
     },
     "execution_count": 66,
     "metadata": {},
     "output_type": "execute_result"
    },
    {
     "data": {
      "image/png": "[encoded data removed]",
      "text/plain": [
       "<Figure size 640x480 with 1 Axes>"
      ]
     },
     "metadata": {},
     "output_type": "display_data"
    }
   ],
   "source": [
    "#londres[londres['Sex'] == 'F']\n",
    "IBM = londres[londres['IBM'] >= 30]\n",
    "maior = IBM['IBM']\n",
    "plt.hist(maior, color='green')"
   ]
  },
  {
   "cell_type": "markdown",
   "metadata": {},
   "source": [
    "<div style=\"background-color: #E2A038; border: #E2A038 solid 1px; margin-left: 2em; padding-left: 5px\"><div style=\"background-color: #F5EEE3; width: 100%; padding: 10px\">\n",
    "\n",
    "Faça um *boxplot* para identificar *outliers* no atributo IMC.\n",
    "</div></div>"
   ]
  },
  {
   "cell_type": "code",
   "execution_count": 73,
   "metadata": {},
   "outputs": [
    {
     "data": {
      "image/png": "[encoded data removed]",
      "text/plain": [
       "<Figure size 640x480 with 1 Axes>"
      ]
     },
     "metadata": {},
     "output_type": "display_data"
    }
   ],
   "source": [
    "londres['IBM'].plot.box()\n",
    "plt.title('Boxplot do IMC (Índice de Massa Corporal)')\n",
    "plt.ylabel('IMC')\n",
    "plt.grid(True)"
   ]
  },
  {
   "cell_type": "markdown",
   "metadata": {},
   "source": [
    "<div style=\"background-color: #E2A038; border: #E2A038 solid 1px; margin-left: 2em; padding-left: 5px\"><div style=\"background-color: #F5EEE3; width: 100%; padding: 10px\">\n",
    "\n",
    "Uma técnica de transformação de atributos que possuem *outliers* é o *clipping*. O *clipping* é obtido determinando-se um ponto de corte em um atributo e agrupando todos os *outliers* com o valor do ponto de corte. Aplique *clipping* no atributo IMC para que não haja atletas com IMC > 30\n",
    "</div></div>"
   ]
  },
  {
   "cell_type": "code",
   "execution_count": 80,
   "metadata": {},
   "outputs": [
    {
     "data": {
      "text/plain": [
       "0        20.761246\n",
       "1        30.000000\n",
       "2        21.733535\n",
       "3        23.243802\n",
       "4        26.827421\n",
       "           ...    \n",
       "10379    29.752744\n",
       "10380    18.929151\n",
       "10381    26.851852\n",
       "10382    20.715694\n",
       "10383    22.522061\n",
       "Name: IBM, Length: 10384, dtype: float64"
      ]
     },
     "execution_count": 80,
     "metadata": {},
     "output_type": "execute_result"
    }
   ],
   "source": [
    "clip = londres['IBM'].clip(upper=30)\n",
    "clip"
   ]
  },
  {
   "cell_type": "code",
   "execution_count": 81,
   "metadata": {},
   "outputs": [
    {
     "data": {
      "image/png": "[encoded data removed]",
      "text/plain": [
       "<Figure size 640x480 with 1 Axes>"
      ]
     },
     "metadata": {},
     "output_type": "display_data"
    }
   ],
   "source": [
    "clip.plot.box()\n",
    "plt.title('Boxplot do IMC (Índice de Massa Corporal) com o clipping')\n",
    "plt.ylabel('IMC')\n",
    "plt.grid(True)"
   ]
  },
  {
   "cell_type": "code",
   "execution_count": null,
   "metadata": {},
   "outputs": [],
   "source": []
  }
 ],
 "metadata": {
  "kernelspec": {
   "display_name": "Python 3 (ipykernel)",
   "language": "python",
   "name": "python3"
  },
  "language_info": {
   "codemirror_mode": {
    "name": "ipython",
    "version": 3
   },
   "file_extension": ".py",
   "mimetype": "text/x-python",
   "name": "python",
   "nbconvert_exporter": "python",
   "pygments_lexer": "ipython3",
   "version": "3.12.3"
  }
 },
 "nbformat": 4,
 "nbformat_minor": 4
}
